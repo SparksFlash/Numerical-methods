{
 "cells": [
  {
   "cell_type": "code",
   "execution_count": 1,
   "id": "6678f53b",
   "metadata": {},
   "outputs": [],
   "source": [
    "# User input (auto)\n",
    "# N = int(input(\"Enter number of unknowns: \"))\n",
    "\n",
    "# arr = []\n",
    "# for i in range(N):\n",
    "#     arr.append(list(map(int, input().split())))\n",
    "\n",
    "# User input (manual)\n",
    "N = 3\n",
    "arr = [[2, 1, -1, 8], [-3, -1, 2, -11], [-2, 1, 2, -3]]"
   ]
  },
  {
   "cell_type": "code",
   "execution_count": 3,
   "id": "7a954598",
   "metadata": {},
   "outputs": [
    {
     "name": "stdout",
     "output_type": "stream",
     "text": [
      "3\n",
      "[2, 1, -1, 8]\n",
      "[0.0, 0.5, 0.5, 1.0]\n",
      "[0.0, 2.0, 1.0, 5.0]\n"
     ]
    }
   ],
   "source": [
    "# User input's output\n",
    "print(N)\n",
    "\n",
    "def print_arr(arr):\n",
    "  for i in range(N):\n",
    "    print(arr[i])\n",
    "\n",
    "print_arr(arr)"
   ]
  },
  {
   "cell_type": "code",
   "execution_count": 4,
   "id": "bdf7c6f4",
   "metadata": {},
   "outputs": [
    {
     "name": "stdout",
     "output_type": "stream",
     "text": [
      "[2, 1, -1, 8]\n",
      "[0.0, 0.5, 0.5, 1.0]\n",
      "[0.0, 2.0, 1.0, 5.0]\n",
      "\n",
      "[2.0, 0.0, -2.0, 6.0]\n",
      "[0.0, 0.5, 0.5, 1.0]\n",
      "[0.0, 0.0, -1.0, 1.0]\n",
      "\n",
      "[2.0, 0.0, 0.0, 4.0]\n",
      "[0.0, 0.5, 0.0, 1.5]\n",
      "[0.0, 0.0, -1.0, 1.0]\n",
      "\n",
      "2.0\n",
      "3.0\n",
      "-1.0\n"
     ]
    }
   ],
   "source": [
    "import copy\n",
    "arr = copy.deepcopy(arr)\n",
    "\n",
    "def gauss_jordan(arr, N):\n",
    "    for i in range(N):\n",
    "        for j in range(N):\n",
    "            if i != j:\n",
    "                p = arr[j][i] / arr[i][i]\n",
    "                for k in range(N+1):\n",
    "                    arr[j][k] -= arr[i][k] * p\n",
    "        print_arr(arr)\n",
    "        print()\n",
    "\n",
    "    for i in range(N):\n",
    "        print(arr[i][3] / arr[i][i])\n",
    "\n",
    "gauss_jordan(arr, N)"
   ]
  }
 ],
 "metadata": {
  "kernelspec": {
   "display_name": "Python 3",
   "language": "python",
   "name": "python3"
  },
  "language_info": {
   "codemirror_mode": {
    "name": "ipython",
    "version": 3
   },
   "file_extension": ".py",
   "mimetype": "text/x-python",
   "name": "python",
   "nbconvert_exporter": "python",
   "pygments_lexer": "ipython3",
   "version": "3.13.7"
  }
 },
 "nbformat": 4,
 "nbformat_minor": 5
}
