{
 "cells": [
  {
   "cell_type": "code",
   "execution_count": 5,
   "id": "6678f53b",
   "metadata": {},
   "outputs": [],
   "source": [
    "# User input (auto)\n",
    "# N = int(input(\"Enter number of unknowns: \"))\n",
    "\n",
    "# arr = []\n",
    "# for i in range(N):\n",
    "#     arr.append(list(map(int, input().split())))\n",
    "\n",
    "# User input (manual)\n",
    "N = 3\n",
    "arr = [[0, 1, -1, 8], [-3, -1, 2, -11], [-2, 1, 2, -3]]"
   ]
  },
  {
   "cell_type": "code",
   "execution_count": 6,
   "id": "7a954598",
   "metadata": {},
   "outputs": [
    {
     "name": "stdout",
     "output_type": "stream",
     "text": [
      "3\n",
      "[0, 1, -1, 8]\n",
      "[-3, -1, 2, -11]\n",
      "[-2, 1, 2, -3]\n"
     ]
    }
   ],
   "source": [
    "# User input's output\n",
    "print(N)\n",
    "\n",
    "def print_arr(arr):\n",
    "  for i in range(N):\n",
    "    print(arr[i])\n",
    "\n",
    "print_arr(arr)"
   ]
  },
  {
   "cell_type": "code",
   "execution_count": 7,
   "id": "bdf7c6f4",
   "metadata": {},
   "outputs": [
    {
     "ename": "ZeroDivisionError",
     "evalue": "division by zero",
     "output_type": "error",
     "traceback": [
      "\u001b[31m---------------------------------------------------------------------------\u001b[39m",
      "\u001b[31mZeroDivisionError\u001b[39m                         Traceback (most recent call last)",
      "\u001b[36mCell\u001b[39m\u001b[36m \u001b[39m\u001b[32mIn[7]\u001b[39m\u001b[32m, line 17\u001b[39m\n\u001b[32m     14\u001b[39m     \u001b[38;5;28;01mfor\u001b[39;00m i \u001b[38;5;129;01min\u001b[39;00m \u001b[38;5;28mrange\u001b[39m(N):\n\u001b[32m     15\u001b[39m         \u001b[38;5;28mprint\u001b[39m(arr[i][\u001b[32m3\u001b[39m] / arr[i][i])\n\u001b[32m---> \u001b[39m\u001b[32m17\u001b[39m \u001b[43mgauss_jordan\u001b[49m\u001b[43m(\u001b[49m\u001b[43marr\u001b[49m\u001b[43m,\u001b[49m\u001b[43m \u001b[49m\u001b[43mN\u001b[49m\u001b[43m)\u001b[49m\n",
      "\u001b[36mCell\u001b[39m\u001b[36m \u001b[39m\u001b[32mIn[7]\u001b[39m\u001b[32m, line 8\u001b[39m, in \u001b[36mgauss_jordan\u001b[39m\u001b[34m(arr, N)\u001b[39m\n\u001b[32m      6\u001b[39m \u001b[38;5;28;01mfor\u001b[39;00m j \u001b[38;5;129;01min\u001b[39;00m \u001b[38;5;28mrange\u001b[39m(N):\n\u001b[32m      7\u001b[39m     \u001b[38;5;28;01mif\u001b[39;00m i != j:\n\u001b[32m----> \u001b[39m\u001b[32m8\u001b[39m         p = \u001b[43marr\u001b[49m\u001b[43m[\u001b[49m\u001b[43mj\u001b[49m\u001b[43m]\u001b[49m\u001b[43m[\u001b[49m\u001b[43mi\u001b[49m\u001b[43m]\u001b[49m\u001b[43m \u001b[49m\u001b[43m/\u001b[49m\u001b[43m \u001b[49m\u001b[43marr\u001b[49m\u001b[43m[\u001b[49m\u001b[43mi\u001b[49m\u001b[43m]\u001b[49m\u001b[43m[\u001b[49m\u001b[43mi\u001b[49m\u001b[43m]\u001b[49m\n\u001b[32m      9\u001b[39m         \u001b[38;5;28;01mfor\u001b[39;00m k \u001b[38;5;129;01min\u001b[39;00m \u001b[38;5;28mrange\u001b[39m(N+\u001b[32m1\u001b[39m):\n\u001b[32m     10\u001b[39m             arr[j][k] -= arr[i][k] * p\n",
      "\u001b[31mZeroDivisionError\u001b[39m: division by zero"
     ]
    }
   ],
   "source": [
    "import copy\n",
    "arr = copy.deepcopy(arr)\n",
    "\n",
    "def gauss_jordan(arr, N):\n",
    "    for i in range(N):\n",
    "        for j in range(N):\n",
    "            if i != j:\n",
    "                p = arr[j][i] / arr[i][i]\n",
    "                for k in range(N+1):\n",
    "                    arr[j][k] -= arr[i][k] * p\n",
    "        print_arr(arr)\n",
    "        print()\n",
    "\n",
    "    for i in range(N):\n",
    "        print(arr[i][3] / arr[i][i])\n",
    "\n",
    "gauss_jordan(arr, N)"
   ]
  },
  {
   "cell_type": "code",
   "execution_count": null,
   "id": "94ebad20",
   "metadata": {},
   "outputs": [],
   "source": []
  }
 ],
 "metadata": {
  "kernelspec": {
   "display_name": "Python 3",
   "language": "python",
   "name": "python3"
  },
  "language_info": {
   "codemirror_mode": {
    "name": "ipython",
    "version": 3
   },
   "file_extension": ".py",
   "mimetype": "text/x-python",
   "name": "python",
   "nbconvert_exporter": "python",
   "pygments_lexer": "ipython3",
   "version": "3.13.7"
  }
 },
 "nbformat": 4,
 "nbformat_minor": 5
}
