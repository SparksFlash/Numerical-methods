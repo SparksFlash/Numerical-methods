{
 "cells": [
  {
   "cell_type": "code",
   "execution_count": 52,
   "id": "f56b2d1a",
   "metadata": {},
   "outputs": [],
   "source": [
    "import numpy as np\n",
    "import pandas as pd\n",
    "import matplotlib.pyplot as plt\n",
    "import seaborn as sns"
   ]
  },
  {
   "cell_type": "code",
   "execution_count": 65,
   "id": "79886e51",
   "metadata": {},
   "outputs": [
    {
     "name": "stdout",
     "output_type": "stream",
     "text": [
      "[1.0, 0.5, 2.0, 6.0]\n",
      "[0.0, 9.0, -9.0, 9.0]\n",
      "[0.0, -7.0, -14.0, -28.0]\n",
      "\n",
      "[1.0, 0.5, 2.0, 6.0]\n",
      "[0.0, 1.0, -1.0, 1.0]\n",
      "[0.0, 0.0, -21.0, -21.0]\n",
      "\n",
      "[1.0, 0.5, 2.0, 6.0]\n",
      "[0.0, 1.0, -1.0, 1.0]\n",
      "[0.0, 0.0, 1.0, 1.0]\n",
      "\n",
      "[3.0, 2.0, 1.0]\n"
     ]
    }
   ],
   "source": [
    "N = 3\n",
    "arr = [[2, 1, 4, 12], [4, 11, -1, 33], [8, -3, 2, 20]]\n",
    "\n",
    "def print_arr(arr):\n",
    "  for i in range(N):\n",
    "    print(arr[i])\n",
    "\n",
    "def gaussian_elimination(N, arr):\n",
    "  for i in range(N):\n",
    "    for j in range(N, -1, -1):\n",
    "      arr[i][j] /= arr[i][0+i]\n",
    "\n",
    "    for j in range(i+1, N):\n",
    "      for k in range(N, -1, -1):\n",
    "        arr[j][k] -= arr[i][k] * arr[j][0+i]\n",
    "\n",
    "    print_arr(arr)\n",
    "    print()\n",
    "\n",
    "  solve = [0 for j in range(N)]\n",
    "  for i in range(N-1, -1, -1):\n",
    "    for j in range(N):\n",
    "      solve[i] = arr[i][N]\n",
    "      for k in range(i+1, N):\n",
    "        solve[i] -= arr[i][k] * solve[k]\n",
    "    solve[i] /= arr[i][i]\n",
    "  print(solve)\n",
    "\n",
    "gaussian_elimination(N, arr)"
   ]
  },
  {
   "cell_type": "code",
   "execution_count": null,
   "id": "20142fbe",
   "metadata": {},
   "outputs": [],
   "source": []
  }
 ],
 "metadata": {
  "kernelspec": {
   "display_name": "Python 3",
   "language": "python",
   "name": "python3"
  },
  "language_info": {
   "codemirror_mode": {
    "name": "ipython",
    "version": 3
   },
   "file_extension": ".py",
   "mimetype": "text/x-python",
   "name": "python",
   "nbconvert_exporter": "python",
   "pygments_lexer": "ipython3",
   "version": "3.13.5"
  }
 },
 "nbformat": 4,
 "nbformat_minor": 5
}
