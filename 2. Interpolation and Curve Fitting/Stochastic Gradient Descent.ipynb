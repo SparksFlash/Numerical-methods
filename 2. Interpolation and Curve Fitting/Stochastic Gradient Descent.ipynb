{
 "cells": [
  {
   "cell_type": "code",
   "execution_count": 1,
   "id": "63c9c055",
   "metadata": {},
   "outputs": [],
   "source": [
    "import numpy as np\n",
    "import matplotlib.pyplot as plt"
   ]
  },
  {
   "cell_type": "code",
   "execution_count": null,
   "id": "d4999667",
   "metadata": {},
   "outputs": [],
   "source": [
    "np.random.seed(0)\n",
    "x = np.random.rand(100, 1)\n",
    "y = np.random.rand(100, 1)"
   ]
  },
  {
   "cell_type": "code",
   "execution_count": 3,
   "id": "5ee98acf",
   "metadata": {},
   "outputs": [],
   "source": [
    "def stochastic_gradient_descent(x, y, m=0, b=0, learning_rate=0.01, epochs=10000):\n",
    "    n = len(y)\n",
    "    for _ in range(epochs):\n",
    "        for i in range(n):\n",
    "            y_pred = m * xi + b\n",
    "            xi = x[i:i+1]\n",
    "            yi = y[i:i+1]\n",
    "            dm = -2 * xi * (yi - y_pred)\n",
    "            db = -2 * (yi - y_pred)\n",
    "            m -= learning_rate * dm\n",
    "            b -= learning_rate * db\n",
    "        return m, b"
   ]
  },
  {
   "cell_type": "code",
   "execution_count": null,
   "id": "b30d889c",
   "metadata": {},
   "outputs": [],
   "source": []
  }
 ],
 "metadata": {
  "kernelspec": {
   "display_name": "Python 3",
   "language": "python",
   "name": "python3"
  },
  "language_info": {
   "codemirror_mode": {
    "name": "ipython",
    "version": 3
   },
   "file_extension": ".py",
   "mimetype": "text/x-python",
   "name": "python",
   "nbconvert_exporter": "python",
   "pygments_lexer": "ipython3",
   "version": "3.13.5"
  }
 },
 "nbformat": 4,
 "nbformat_minor": 5
}
